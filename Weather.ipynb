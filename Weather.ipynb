{
  "nbformat": 4,
  "nbformat_minor": 0,
  "metadata": {
    "colab": {
      "name": "Untitled3.ipynb",
      "provenance": [],
      "authorship_tag": "ABX9TyMT+EIUeYFB2exwX6LhqyD5",
      "include_colab_link": true
    },
    "kernelspec": {
      "name": "python3",
      "display_name": "Python 3"
    }
  },
  "cells": [
    {
      "cell_type": "markdown",
      "metadata": {
        "id": "view-in-github",
        "colab_type": "text"
      },
      "source": [
        "<a href=\"https://colab.research.google.com/github/girlswhocodee/Uni-Virtual-Assistant/blob/main/Weather.ipynb\" target=\"_parent\"><img src=\"https://colab.research.google.com/assets/colab-badge.svg\" alt=\"Open In Colab\"/></a>"
      ]
    },
    {
      "cell_type": "code",
      "metadata": {
        "id": "MKlTr64TJbFR"
      },
      "source": [
        ""
      ],
      "execution_count": 6,
      "outputs": []
    },
    {
      "cell_type": "code",
      "metadata": {
        "colab": {
          "base_uri": "https://localhost:8080/"
        },
        "id": "rxzRh_ggLGx3",
        "outputId": "89496865-5397-483d-bb0c-eab3018acb7e"
      },
      "source": [
        "# import required modules \n",
        "import requests, json \n",
        "  \n",
        "# Enter your API key here \n",
        "api_key = \"0cbfef3eb526b59af8909029bb7b59a3\"\n",
        "  \n",
        "# base_url variable to store url \n",
        "base_url = \"http://api.openweathermap.org/data/2.5/weather?\"\n",
        "  \n",
        "# Give city name \n",
        "city_name = input(\"Enter city name : \") \n",
        "  \n",
        "# complete_url variable to store \n",
        "# complete url address \n",
        "complete_url = base_url + \"appid=\" + api_key + \"&q=\" + city_name \n",
        "  \n",
        "# get method of requests module \n",
        "# return response object \n",
        "response = requests.get(complete_url) \n",
        "  \n",
        "# json method of response object  \n",
        "# convert json format data into \n",
        "# python format data \n",
        "x = response.json() \n",
        "  \n",
        "# Now x contains list of nested dictionaries \n",
        "# Check the value of \"cod\" key is equal to \n",
        "# \"404\", means city is found otherwise, \n",
        "# city is not found \n",
        "if x[\"cod\"] != \"404\": \n",
        "  \n",
        "    # store the value of \"main\" \n",
        "    # key in variable y \n",
        "    y = x[\"main\"] \n",
        "  \n",
        "    # store the value corresponding \n",
        "    # to the \"temp\" key of y \n",
        "    current_temperature = y[\"temp\"] \n",
        "  \n",
        "    # store the value corresponding \n",
        "    # to the \"pressure\" key of y \n",
        "    current_pressure = y[\"pressure\"] \n",
        "  \n",
        "    # store the value corresponding \n",
        "    # to the \"humidity\" key of y \n",
        "    current_humidiy = y[\"humidity\"] \n",
        "  \n",
        "    # store the value of \"weather\" \n",
        "    # key in variable z \n",
        "    z = x[\"weather\"] \n",
        "  \n",
        "    # store the value corresponding  \n",
        "    # to the \"description\" key at  \n",
        "    # the 0th index of z \n",
        "    weather_description = z[0][\"description\"] \n",
        "  \n",
        "    # print following values \n",
        "    print(\" Temperature (in Kelvin unit) = \" +\n",
        "                    str(current_temperature) + \n",
        "          \"\\n atmospheric pressure (in hPa unit) = \" +\n",
        "                    str(current_pressure) +\n",
        "          \"\\n humidity (in percentage) = \" +\n",
        "                    str(current_humidiy) +\n",
        "          \"\\n description = \" +\n",
        "                    str(weather_description)) \n",
        "  \n",
        "else: \n",
        "    print(\" City Not Found \") \n",
        "\n",
        "\n",
        "\n"
      ],
      "execution_count": 7,
      "outputs": [
        {
          "output_type": "stream",
          "text": [
            "Enter city name : clarksburg\n",
            " Temperature (in Kelvin unit) = 276.53\n",
            " atmospheric pressure (in hPa unit) = 1036\n",
            " humidity (in percentage) = 51\n",
            " description = broken clouds\n"
          ],
          "name": "stdout"
        }
      ]
    }
  ]
}